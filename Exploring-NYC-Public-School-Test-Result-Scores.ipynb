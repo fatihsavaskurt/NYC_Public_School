{
 "cells": [
  {
   "cell_type": "code",
   "execution_count": null,
   "id": "90ba3e0c",
   "metadata": {},
   "outputs": [],
   "source": [
    "# Re-run this cell \n",
    "import pandas as pd\n",
    "\n",
    "# Read in the data\n",
    "schools = pd.read_csv(\"schools.csv\")\n",
    "\n",
    "# Preview the data\n",
    "schools.head()"
   ]
  },
  {
   "cell_type": "code",
   "execution_count": null,
   "id": "d25557cd",
   "metadata": {},
   "outputs": [],
   "source": [
    "schools[\"total_SAT\"] = schools[\"average_math\"] + schools[\"average_reading\"] + schools[\"average_writing\"]"
   ]
  },
  {
   "cell_type": "code",
   "execution_count": null,
   "id": "0443ff74",
   "metadata": {},
   "outputs": [],
   "source": [
    "top_10_schools = schools.sort_values(\"total_SAT\", ascending=False)[[\"school_name\", \"total_SAT\"]].head(10)"
   ]
  },
  {
   "cell_type": "code",
   "execution_count": null,
   "id": "64874f7f",
   "metadata": {},
   "outputs": [],
   "source": [
    "boroughs = schools.groupby(\"borough\")[\"total_SAT\"].agg([\"count\", \"mean\", \"std\"]).round(2)"
   ]
  },
  {
   "cell_type": "code",
   "execution_count": null,
   "id": "3630ea58",
   "metadata": {},
   "outputs": [],
   "source": [
    "largest_std_dev = boroughs[boroughs[\"std\"] == boroughs[\"std\"].max()]"
   ]
  },
  {
   "cell_type": "code",
   "execution_count": null,
   "id": "382c13c6",
   "metadata": {},
   "outputs": [],
   "source": [
    "largest_std_dev = largest_std_dev.rename(columns={\"count\": \"num_schools\", \"mean\": \"average_SAT\", \"std\": \"std_SAT\"})"
   ]
  },
  {
   "cell_type": "code",
   "execution_count": null,
   "id": "59449b63",
   "metadata": {},
   "outputs": [],
   "source": [
    "largest_std_dev.reset_index(inplace=True)"
   ]
  }
 ],
 "metadata": {
  "kernelspec": {
   "display_name": "Python 3 (ipykernel)",
   "language": "python",
   "name": "python3"
  },
  "language_info": {
   "codemirror_mode": {
    "name": "ipython",
    "version": 3
   },
   "file_extension": ".py",
   "mimetype": "text/x-python",
   "name": "python",
   "nbconvert_exporter": "python",
   "pygments_lexer": "ipython3",
   "version": "3.9.7"
  }
 },
 "nbformat": 4,
 "nbformat_minor": 5
}
